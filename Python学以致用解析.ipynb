{
 "cells": [
  {
   "cell_type": "markdown",
   "metadata": {},
   "source": [
    "## 风车图\n",
    "\n",
    "![风车图](img-001-风车图.png)\n",
    "\n",
    "### 观察图形特点\n",
    "1.  风车图和圆形相关\n",
    "2. 风车图是在一个大圆里面挖掉了四个相同的小半圆构成\n",
    "\n",
    "### 数学课本上用圆规画圆的关键信息\n",
    "1. 确定圆心位置\n",
    "2. 确定半径长度\n",
    "\n",
    "### Python 中 Turtle 库画圆的函数\n",
    "\n",
    "turtle.circle(radius, extent=None, steps=None)\n",
    "\n",
    "参数：\n",
    "\n",
    "radius -- 一个数值   **半径长度**\n",
    "\n",
    "extent -- 一个数值 (或 None)   **圆弧长度**\n",
    "\n",
    "steps -- 一个整型数 (或 None)\n",
    "\n",
    "**绘制一个 radius 指定半径的圆。圆心在海龟左边 radius 个单位**；extent 为一个夹角，用来决定绘制圆的一部分。如未指定 extent*则绘制整个圆。如果 *extent 不是完整圆周，则以当前画笔位置为一个端点绘制圆弧。如果 radius 为正值则朝逆时针方向绘制圆弧，否则朝顺时针方向。最终海龟的朝向会依据 extent 的值而改变。\n",
    "\n",
    "圆实际是以其内切正多边形来近似表示的，其边的数量由 steps 指定。如果未指定边数则会自动确定。此方法也可用来绘制正多边形。\n",
    "\n",
    "**特别说明：**\n",
    "- 一个函数的参数，包含必须参数和可选参数\n",
    "- 必选参数一定是按先后顺序书写\n",
    "- 必选参数不用写参数名\n",
    "- 可选参数一定是出现在必选参数之后\n",
    "- 可选参数一定要书写参数名\n",
    "\n",
    "- radius 参数是必选参数，不用写参数名 radius， 直接写参数值就可以，表示半径的长度\n",
    "- extent 参数是可选参数，不写这个参数时，表示画整个圆弧或正多边形的所有边；写这个参数时，必须写参数名 extent。\n",
    "- steps 参数是可选参数，不写这个参数时，表示画圆或圆弧；写这个参数时，表示画正多边形。\n",
    "\n",
    "### 圆规画圆和 Turtle 画圆的区别\n",
    "\n",
    "圆规画圆是把圆规的两端调整成半径的长度，把一端固定在圆心，把另一端绕圆心一周。\n",
    "圆规画圆时圆周上的那一端可以从圆周上的任意一点开始画，而且画圆周的方向可以是顺时间也可以是逆时针。\n",
    "\n",
    "Turtle 画圆相当于总是把圆规固定从圆心正下方偏移半径长度的地方逆时针开始画。\n",
    "      \n",
    "关键区别点在于：圆周上画圆时的起点和方向有差异。"
   ]
  },
  {
   "cell_type": "code",
   "execution_count": 34,
   "metadata": {},
   "outputs": [],
   "source": [
    "import turtle as t\n",
    "# 请输入并运行这段程序，观察海龟画圆的特点\n",
    "t.dot(10, \"red\") # 标记海龟的起点，便于观察海龟画圆时的起点和方向。\n",
    "t.write(\"(0,0)\") # 标记海龟起点坐标值(0,0)\n",
    "t.circle(100) # 画一个半径为 100 的圆\n",
    "t.penup() # 抬笔准备移动画笔\n",
    "t.goto(0,100) # 移动画笔到圆心的位置\n",
    "t.pendown()  # 落笔准备标记圆心\n",
    "t.dot(10,\"blue\") # 以蓝色笔标记圆心\n",
    "t.write(\"(0,100)\") # 标记海龟起点坐标值(0,100)\n",
    "t.done()"
   ]
  },
  {
   "cell_type": "code",
   "execution_count": 36,
   "metadata": {},
   "outputs": [],
   "source": [
    "import turtle as t\n",
    "# 请输入并运行这段程序，观察海龟画圆的特点\n",
    "t.dot(10, \"red\") # 标记海龟的起点，便于观察海龟画圆时的起点和方向。\n",
    "t.write(\"(0,0)\") # 标记海龟起点坐标值(0,0)\n",
    "t.circle(100, extent=90) # 画一个半径为 100 , 长度为90度的圆弧\n",
    "t.penup() # 抬笔准备移动画笔\n",
    "t.goto(0,100) # 移动画笔到圆心的位置\n",
    "t.pendown()  # 落笔准备标记圆心\n",
    "t.dot(10,\"blue\") # 以蓝色笔标记圆心\n",
    "t.write(\"(0,100)\") # 标记海龟起点坐标值(0,100)\n",
    "t.done()"
   ]
  },
  {
   "cell_type": "code",
   "execution_count": 28,
   "metadata": {},
   "outputs": [],
   "source": [
    "import turtle as t\n",
    "# 请输入并运行这段程序，观察海龟画圆的特点\n",
    "t.circle(100, extent=180) # 画一个半径为 100 , 长度为180度的圆弧（半圆）\n",
    "t.done()"
   ]
  },
  {
   "cell_type": "code",
   "execution_count": 40,
   "metadata": {},
   "outputs": [],
   "source": [
    "import turtle as t\n",
    "# 请输入并运行这段程序，观察海龟画圆的特点\n",
    "t.dot(10, \"red\") # 标记海龟的起点，便于观察海龟画圆时的起点和方向。\n",
    "t.write(\"(0,0)\") # 标记海龟起点坐标值(0,0)\n",
    "t.left(90)  # 调整海龟的朝向，默认时朝东，现在朝北\n",
    "t.circle(100, extent=90) # 画一个半径为 100 , 长度为90度的圆弧  圆心总是在朝向的左边\n",
    "t.penup() # 抬笔准备移动画笔\n",
    "t.goto(0,100) # 移动画笔到默认朝向时圆心的位置\n",
    "t.pendown()  # 落笔准备标记默认朝向时圆心位置\n",
    "t.dot(10,\"blue\") # 以蓝色笔标记默认朝向时的圆心位置\n",
    "t.write(\"(0,100)\") # 标记海龟起点坐标值(-100,0)\n",
    "t.penup() # 抬笔准备移动画笔\n",
    "t.goto(-100,0) # 移动画笔到当前圆心的位置\n",
    "t.pendown()  # 落笔准备标记当前的圆心位置\n",
    "t.dot(10,\"yellow\") # 以黄色笔标记当前的圆心位置\n",
    "t.write(\"(-100,0)\") # 标记海龟起点坐标值(-100,0)\n",
    "t.done()"
   ]
  },
  {
   "cell_type": "code",
   "execution_count": null,
   "metadata": {},
   "outputs": [],
   "source": []
  },
  {
   "cell_type": "code",
   "execution_count": null,
   "metadata": {},
   "outputs": [],
   "source": []
  }
 ],
 "metadata": {
  "kernelspec": {
   "display_name": "Python 3.8.3 64-bit ('py38': conda)",
   "language": "python",
   "name": "python38364bitpy38condaa6e0d64beac044a795ee93dd52ee03ff"
  },
  "language_info": {
   "codemirror_mode": {
    "name": "ipython",
    "version": 3
   },
   "file_extension": ".py",
   "mimetype": "text/x-python",
   "name": "python",
   "nbconvert_exporter": "python",
   "pygments_lexer": "ipython3",
   "version": "3.8.3"
  }
 },
 "nbformat": 4,
 "nbformat_minor": 2
}
